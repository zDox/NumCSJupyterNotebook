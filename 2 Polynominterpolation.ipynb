{
 "cells": [
  {
   "cell_type": "markdown",
   "id": "abaad0f6-e77e-40c2-b23a-eb8873210299",
   "metadata": {},
   "source": [
    "# Introduction \n"
   ]
  },
  {
   "cell_type": "markdown",
   "id": "d8bfe3e3-2025-4376-942c-4950e5eb5a73",
   "metadata": {},
   "source": [
    "Goal:\n",
    "ist ja wohl klar...\n",
    "\n",
    "## Zusammenfassung der Contents:\n",
    "- Monombasis Interpolation + Auswertungsschema\n",
    "- Newton-Basis und dividierte Differenzen + Auswertung\n",
    "- Lagrange Polynome + Baryzentrische Interpolationsformeln\n",
    "- Wahl der Stützstellen hat enormen Einfluss(Runge Phänomen)!!!\n",
    "- Chebyshev Interpolation + chebyshev Knoten/Abszissen (effizientere Berechnungen dieser Interpolation unter TrigInt)"
   ]
  },
  {
   "cell_type": "markdown",
   "id": "1f3df4bd-fb82-4f25-b4ab-a5c190a93167",
   "metadata": {},
   "source": [
    "Runge Funktion mit Chebyshev knoten und abszissen interpolieren\n",
    "und evtl die Chebyshev interpolation?"
   ]
  },
  {
   "cell_type": "markdown",
   "id": "6db865f5-47e3-4c18-840d-e35a079862fe",
   "metadata": {},
   "source": [
    "# Interpolation mit Auswertung\n"
   ]
  },
  {
   "cell_type": "markdown",
   "id": "8900173d-8477-4b29-aacd-aacccfe95caf",
   "metadata": {},
   "source": [
    "## Monomen Basis Vandermonde Matrix\n",
    "### Basis\n",
    "Für sample Grösse n + 1 haben wir polynomgrad n was wie folgt aussieht:\n",
    "$$p_n(x) = \\alpha_nx^n + ... + \\alpha_1x^1+\\alpha_0$$\n",
    "also haben wir einen n+1 dimensionalen Raum mit Basis\n",
    "$$B = \\{ x^n , x^{n-1} , ... , x^1 , x^0 \\} $$ \n",
    "\n",
    "Sehr leicht lässt sich daher ein lineares Gleichungssystem aufstellen, welches wir folgend Aufstellen\n",
    "### Vandermonde Matrix\n",
    "Für n+1 Unbekannte brauchen wir n+1 Gleichungen.\n",
    "Gegeben sind $x_i$ und $f(x_i) = y_i$   \n",
    "(Bemerke, dass wir f nicht unbedingt wissen sondern wir Messwerte zur Verfügung haben können)\n",
    "\n",
    "Wir erhalten \n",
    "$$\\begin{aligned}\n",
    "p(x_0) &= \\alpha_n(x_0)^n + \\alpha_{n-1}(x_0)^{n-1} \\cdots \\alpha_0 \\\\\n",
    "p(x_1) &= \\alpha_n(x_1)^n + \\alpha_{n-1}(x_1)^{n-1} \\cdots \\alpha_0\\\\\n",
    "&\\vdots\\\\\n",
    "p(x_n) &= \\alpha_n(x_n)^n + \\alpha_{n-1}(x_n)^{n-1} \\cdots \\alpha_0 \n",
    "\\end{aligned}\n",
    "$$\n",
    "\n",
    "Wodurch natürlich die Darstellung mit Ax=b erscheint wie folgt:\n",
    "\n",
    "$$\n",
    "\\begin{bmatrix}\n",
    "1&x_0&\\cdots&x_0^n\\\\\n",
    "1&x_0&\\cdots&x_0^n\\\\\n",
    "\\vdots&\\vdots&\\ddots&\\vdots\\\\\n",
    "1&x_0&\\cdots&x_n^n\n",
    "\\end{bmatrix}\n",
    "\\begin{bmatrix}\n",
    "\\alpha_0\\\\\n",
    "\\alpha_1\\\\\n",
    "\\vdots\\\\\n",
    "\\alpha_n\n",
    "\\end{bmatrix}=\n",
    "\\begin{bmatrix}\n",
    "y_0\\\\\n",
    "y_1\\\\\n",
    "\\vdots\\\\\n",
    "y_n\n",
    "\\end{bmatrix}\n",
    "$$\n",
    "\n",
    "Falls wir diese Methode verwenden wollen, möchten wir die Matrix schnell aufstellen.\n"
   ]
  },
  {
   "cell_type": "code",
   "execution_count": null,
   "id": "48fa0e52-0f71-46e9-a074-8e5c5de0c4a9",
   "metadata": {
    "jupyter": {
     "source_hidden": true
    }
   },
   "outputs": [],
   "source": [
    "#Konstruktion der Vandermonde Matrix\n",
    "import numpy as np\n",
    "import time\n",
    "\n",
    "def mytimeit(rep=1): # decorator with argument\n",
    "    def mytimeit_real_decorator(func): # actual decorator\n",
    "        def wrapper(*args, **kwargs):\n",
    "            ts = [] # measured times\n",
    "            for k in range(rep):\n",
    "                start = time.perf_counter()\n",
    "                #start = time.process_time()\n",
    "                result = func(*args, **kwargs)\n",
    "                #end = time.process_time()\n",
    "                end = time.perf_counter()\n",
    "                ts.append(end - start)\n",
    "            print(f'Min. Time taken: {min(ts):.6f} seconds in ',func.__name__)\n",
    "            wrapper.ats.append(min(ts)) # record the minimal measured time\n",
    "            return result\n",
    "        wrapper.ats = [] # declare atribute to use later\n",
    "        return wrapper   \n",
    "    return mytimeit_real_decorator\n",
    "\n",
    "nrEXP = 4\n",
    "\n",
    "m = 1000; n = 1000\n",
    "t = np.linspace(0,1,m)\n",
    "Z = np.ones((m,n)) # Vandermonde Matrix\n",
    "Z1 = Z.copy()\n",
    "\n",
    "@mytimeit(rep=nrEXP)\n",
    "def dirZ(Z):\n",
    "    for k in range(1,n): Z[k] = Z[k-1]*t\n",
    "    Z = Z.T\n",
    "    return Z\n",
    "\n",
    "@mytimeit(rep=nrEXP)\n",
    "def indirZ(Z):\n",
    "    for k in range(1,n): Z[k] = t**k\n",
    "    Z = Z.T\n",
    "    return Z\n",
    "\n",
    "X = dirZ(Z)\n",
    "Y = indirZ(Z)\n",
    "\n",
    "print(dirZ.ats)\n",
    "print(indirZ.ats)\n",
    "\n",
    "print(np.linalg.cond(X))"
   ]
  },
  {
   "cell_type": "markdown",
   "id": "086f120f-ffc8-48c5-91d9-a8b97c0dc2d5",
   "metadata": {},
   "source": [
    "### Horner Schema\n",
    "Wir haben nun die $\\alpha_i , i \\in \\{0,..,n\\}$  berechnet  \n",
    "und wollen für eine Menge von $x \\in [a,b]$\n",
    "Funktionswerte Berechnen. Wir benutzen das Horner schema statt der Formel oben zur  \n",
    "Berechnung aus(Insert Gründe) \n",
    "\n",
    "$$p(x) = (x...x(x(\\alpha_nx+\\alpha_{n-1})+...+\\alpha_1)+\\alpha_0).$$\n"
   ]
  },
  {
   "cell_type": "code",
   "execution_count": null,
   "id": "417b4194-797a-4896-8034-931dc50f9b95",
   "metadata": {
    "jupyter": {
     "source_hidden": true
    }
   },
   "outputs": [],
   "source": [
    "\"\"\"\n",
    "zwei Implementierungen:\n",
    "1. Nutze numpy.interpolate und polyval \n",
    "2. Nutze custom function aus Code 2.1.15: Horner-Schema\n",
    "\"\"\"\n",
    "import numpy as np\n",
    "\n",
    "#nehme an a sei ein array mit den korrekten koeffizienten\n",
    "a = np.arange(0,10)\n",
    "#x sind die Auswertungsstellen\n",
    "x = np.linspace(0,1,100) \n",
    "y = np.polyval(a,x)\n",
    "\n",
    "#Horner Schema aus skript:\n",
    "\n",
    "def horner(p, x):\n",
    "    y = p[0]\n",
    "    for i in range(1, len(p)):\n",
    "        y = x + p[i]\n",
    "    return y\n",
    "\n",
    "#Insert vergleich von beiden mit %%timit"
   ]
  },
  {
   "cell_type": "markdown",
   "id": "627c0019-ca22-4df4-bf93-12688662c65c",
   "metadata": {},
   "source": [
    "## Newton Basis und Dividierte Differenzen\n",
    "Ansatz bei der Newton basis ist es ein Polynom zu entwickeln, bei dem man einfach neue Interpolationsbedingungen hinzufügen möchte.\n",
    "\n",
    "Man kann also einfach von 0. grad zu 1. grad umbauen:\n",
    "\n",
    "$$p_0(x_0) = y_0 -> p_1(x) = p_0(x) + (x - x_0)\\dfrac{y_1 - y_0}{x_1 - x_0}$$\n",
    "\n",
    "Erklärung des Schemas:\n",
    "p_n(x) = p_{n-1}(x) + \n",
    "\n",
    "\n",
    "Bemerkung:\n",
    "Diese Polynome sind analytisch die selben, wie bei der Vandermonde matrix.\n",
    "\n",
    "Explizite Form eines Polynoms durch Newton Basis:\n",
    "$$p_n(x) = \\beta_0N_0(x) + \\beta_1N_1(x) + ... + \\beta_nN_n(x)$$\n",
    "\n",
    "$$N_n(x) = \\prod_{i=0}^{n-1} (x-x_i)$$\n",
    "Die Koeffizienten Beta sind also die Unbekannten, welche wir entweder mit einer Matrix berechnung oder durch dividierte Differenzen.\n",
    "Eigentlich benutzen wir wenn nur dividierte Differenzen:\n",
    "$$y[x_i] = y_i,  y[x_i,...,x_{i+k}] = \\dfrac{y[x_{i+1},...,x_{i+k}]-y[x_i,....,x_{i+k-1}]}{x_{i+k-x_i}}$$\n",
    "$$\n",
    "\\begin{array}{c|cccc}\n",
    "x_0 & y[x_0] & & & \\\\\n",
    "x_1 & y[x_1] & y[x_0,x_1] & & \\\\\n",
    "x_2 & y[x_2] & y[x_1,x_2] & y[x_0,x_1,x_2] & \\\\\n",
    "x_3 & y[x_3] & y[x_2,x_3] & y[x_1,x_2,x_3] & y[x_0,x_1,x_2,x_3]\n",
    "\\end{array}\n",
    "$$\n",
    "\n",
    "Die Beta werte sind die Werte $y[x_0], y[x_0,x_1], y[x_0,x_1,x_2],...$\n",
    "\n",
    "Es wär aber genau so legitim die $x_0, x_1, x_2, x_3$ in der Linken Spalte anders anzuordnen\n",
    "\n",
    "Wenn wir jetzt einen neuen Messpunkt x_4 bekommen impliziert das, dass wir einfach\n",
    "$$\n",
    "\\begin{array}{c|ccccc}\n",
    "x_4 & y[x_4] & & & & \\\\ \n",
    "x_0 & y[x_0] & y[x_4,x_0] & & &\\\\\n",
    "x_1 & y[x_1] & y[x_0,x_1] & y[x_4,x_0,x_1] & & &\\\\\n",
    "x_2 & y[x_2] & y[x_1,x_2] & y[x_0,x_1,x_2] & y[x_4,x_0,x_1,x_2] &\\\\\n",
    "x_3 & y[x_3] & y[x_2,x_3] & y[x_1,x_2,x_3] & y[x_0,x_1,x_2,x_3] & y[x_4,x_0,x_1,x_2,x_3]\n",
    "\\end{array}\n",
    "$$\n",
    "\n",
    "machen können.\n",
    "\n",
    "Spezialfall Äquidistante Punkte $x_i$"
   ]
  },
  {
   "cell_type": "markdown",
   "id": "a1b8e1dd-1155-4f6b-80b2-e0fd3075ba4a",
   "metadata": {},
   "source": [
    "### Dividierte Differenzen Implementiert:"
   ]
  },
  {
   "cell_type": "code",
   "execution_count": null,
   "id": "004fe1e3-8dbb-411e-8227-31f1aa68a6ad",
   "metadata": {
    "jupyter": {
     "source_hidden": true
    }
   },
   "outputs": [],
   "source": [
    "#Implementierungen für Berechnung der Beta werte:\n",
    "\n",
    "#Von Leonard:\n",
    "import numpy as np\n",
    "def divdiffLeo(x,y):\n",
    "    \"\"\"\n",
    "    \"\"\"   \n",
    "    z = y.copy()\n",
    "    n = y.shape[0]\n",
    "    for i in range(1,n):\n",
    "      z[i:n] = z[i:n] - z[i-1:n-1]\n",
    "      z[i:n] = z[i:n] /(x[i:n] - x[0:n-i])\n",
    "    #print(z[0:3])\n",
    "    return z\n",
    "#Master Solution:\n",
    "def divdiff(x,y):\n",
    "    \"\"\"\n",
    "    x = node set (mutually different)\n",
    "    y = nodal values, will be overwritten: no copy\n",
    "    Returns the coefficients of the polynomial in Newton basis\n",
    "    vectorized version: fastest possible\n",
    "    \"\"\"   \n",
    "    n = len(x)\n",
    "    for j in range(1,n):\n",
    "        y[j:n] = (y[j:n] - y[j-1:n-1]) /  (x[j:n] - x[:n-j])\n",
    "    return y\n"
   ]
  },
  {
   "cell_type": "markdown",
   "id": "6d06a64a-d0ad-4489-80d6-3bbe00e52030",
   "metadata": {},
   "source": [
    "### Auswertung:\n",
    "Das Horner Schema hier ist:\n",
    "$$\\begin{aligned}\n",
    "p &= \\beta_n \\\\\n",
    "p &= (x - x-{n-1})p + \\beta_{n-1}\\\\\n",
    "\\vdots\\\\\n",
    "p &= (x - x_0)p + \\beta_0\\\\\n",
    "\\end{aligned}$$"
   ]
  },
  {
   "cell_type": "code",
   "execution_count": null,
   "id": "877caa09-30ee-4b2a-a821-209790c35cd5",
   "metadata": {
    "jupyter": {
     "source_hidden": true
    }
   },
   "outputs": [],
   "source": [
    "#Implementierungen Des Horner Schemas:\n",
    "import numpy as np\n",
    "\n",
    "#Leonards Solution:\n",
    "def evalNewtonLeo(x, dd, xx):\n",
    "    \"\"\"\n",
    "    \"\"\"\n",
    "    n = x.shape[0]\n",
    "    r = np.zeros(xx.shape[0]).reshape(-1,1)\n",
    "    xx = xx.reshape(-1,1)\n",
    "    r = r + dd[n-1]\n",
    "    for j in range(n-2, -1, -1):\n",
    "      r = r * (xx - x[j]) + dd[j]\n",
    "    return r\n",
    "    \n",
    "\n",
    "\n",
    "\n",
    "#Master Solution:\n",
    "def evalNewton(x, dd, xx):\n",
    "    \"\"\"\n",
    "    Evaluiert das Newton-Polynom\n",
    "\n",
    "    Input: x  ... Stuetzstellen\n",
    "           dd ... dividierte Differenzen\n",
    "           xx ... auswertungspunkte\n",
    "\n",
    "    Output: yy ... Newton-Polynom ausgewertet an xx\n",
    "    \"\"\"\n",
    "    r = 0*xx + dd[-1] # initialise with the highest coefficient\n",
    "    n  = len(dd)\n",
    "    for i in range(n-2,-1,-1): # Horner scheme\n",
    "        r = r*(xx-x[i]) + dd[i]\n",
    "    return r"
   ]
  },
  {
   "cell_type": "code",
   "execution_count": null,
   "id": "2f0157b9-8247-458b-b071-8aaa2b31ba03",
   "metadata": {},
   "outputs": [],
   "source": []
  },
  {
   "cell_type": "markdown",
   "id": "3a29dd96-d277-4b1a-b57b-0a37dcfcb9a3",
   "metadata": {},
   "source": [
    "## Lagrange Polynome"
   ]
  },
  {
   "cell_type": "markdown",
   "id": "efc259d1-6a1f-4d91-bf4c-72c71a54a690",
   "metadata": {},
   "source": [
    "## Runge Phänomen"
   ]
  },
  {
   "cell_type": "code",
   "execution_count": 3,
   "id": "8e67a090-1e48-45ff-ae63-55f30433598e",
   "metadata": {
    "collapsed": true,
    "jupyter": {
     "outputs_hidden": true,
     "source_hidden": true
    }
   },
   "outputs": [
    {
     "data": {
      "image/png": "[encoded data removed]",
      "text/plain": [
       "<Figure size 640x480 with 2 Axes>"
      ]
     },
     "metadata": {},
     "output_type": "display_data"
    }
   ],
   "source": [
    "import numpy as np\n",
    "from scipy.interpolate import lagrange\n",
    "import matplotlib.pyplot as plt\n",
    "\n",
    "def runge(x):\n",
    "    return 1/(1+x**2)\n",
    "x = np.linspace(-5,5,10)\n",
    "y = runge(x)\n",
    "xMore = np.linspace(-5,5,40)\n",
    "#print(poly)\n",
    "plt.subplot(1,2,1)\n",
    "plt.plot(xMore, runge(xMore))\n",
    "plt.ylim(-1,2)\n",
    "plt.grid(True)\n",
    "#plot 2\n",
    "\n",
    "plt.subplot(1,2,2)\n",
    "for i in range(10,30,10):\n",
    "    xMod = np.linspace(-5,5,i)\n",
    "    yMod = runge(xMod)\n",
    "    poly = lagrange(xMod,yMod)\n",
    "    plt.plot(xMore,poly(xMore))\n",
    "#Interpolations using equidistant and \n",
    "plt.ylim(-1,2)\n",
    "plt.grid(True)\n",
    "plt.plot(x,y, 'o')\n",
    "plt.show()\n",
    "\n",
    "    \n",
    "\n",
    "\n",
    "\n"
   ]
  },
  {
   "cell_type": "markdown",
   "id": "8f21ede2-0213-4b4c-b2e2-234e1b77c8e1",
   "metadata": {},
   "source": [
    "## Baryzentrische Interpolation mit Chebyshev"
   ]
  },
  {
   "cell_type": "code",
   "execution_count": null,
   "id": "b8ac7561-175a-4321-927f-346d999da8b1",
   "metadata": {
    "jupyter": {
     "source_hidden": true
    }
   },
   "outputs": [],
   "source": [
    "#Implementierung Baryzentrische Gewichte Berechnen:\n",
    "def barycentric_weightsLeo(x):\n",
    "    \"\"\"\n",
    "    \"\"\"\n",
    "    n = len(x)\n",
    "    barweight = np.zeros(n)\n",
    "    for i in range(n):\n",
    "      prod = 1\n",
    "      for j, point in enumerate(x):\n",
    "        if(i == j):\n",
    "          continue\n",
    "        prod *= (x[i] - x[j])\n",
    "      barweight[i] = 1/prod\n",
    "    return barweight\n",
    "\n",
    "#Master Solution\n",
    "def barycentric_weights(x):\n",
    "    \"\"\"\n",
    "    Berechne die baryzentrischen Gewichte zu den Stuetzstellen x\n",
    "\n",
    "    Input: x ... Stuetzstellen\n",
    "    Output: barweight ... baryzentrischen Gewichte\n",
    "    \"\"\"\n",
    "    n = len(x)\n",
    "    barweight = np.ones(n)\n",
    "    for k in range(n):\n",
    "        barweight[k] = 1.0 / (np.prod(x[k] - x[:k]) * np.prod(x[k] - x[k+1:]) )\n",
    "\n",
    "    return barweight\n"
   ]
  },
  {
   "cell_type": "code",
   "execution_count": null,
   "id": "b64819a2-c5f6-4318-9f29-d39da656afb5",
   "metadata": {
    "jupyter": {
     "source_hidden": true
    }
   },
   "outputs": [],
   "source": [
    "#Auswertung des Baryzentrischen Polynoms:\n",
    "import numpy as np\n",
    "def interp_barycentricLeo(x, y, barweight, xx):\n",
    "  \"\"\"\n",
    "  \"\"\"\n",
    "  pxx = np.zeros_like(xx)b\n",
    "  print(len(x), len(y), len(barweight), len(xx))\n",
    "  for i, point in enumerate(xx):\n",
    "    if xx[i] in x:\n",
    "      ind = np.where(x == xx[i])[0][0]\n",
    "      pxx[i] = y[ind]\n",
    "      continue\n",
    "    top = 0\n",
    "    bot = 0\n",
    "    for j in range(len(x)):\n",
    "      sub = barweight[j]/(xx[i] - x[j])\n",
    "      bot += sub\n",
    "      top += sub*y[j]\n",
    "    pxx[i] = top/bot\n",
    "  return pxx\n",
    "\n",
    "#Master Solution\n",
    "def interp_barycentric(x, y, barweight, xx):\n",
    "  \"\"\"\n",
    "  Purpose: berechnet das Interpolations-Polynom p(xx) mittels\n",
    "           baryzentrischer Interpolationsformel mit Stueztstellen x,\n",
    "           Stuetzwerten y und Gewichte barweight\n",
    "\n",
    "  Input: x         ... Stuetzstellen\n",
    "         y         ... Stuetzwerte\n",
    "         barweight ... baryzentrische Gewichte zu x\n",
    "         xx        ... xx\n",
    "\n",
    "  Output: pxx ... Interpolationspolynom ausgewertet an xx\n",
    "  \"\"\"\n",
    "  pxx = np.zeros_like(xx) # oder pxx = 0.*xx\n",
    "\n",
    "  for i, xxi in enumerate(xx): #  sequenziel :(\n",
    "    z = xxi - x\n",
    "    j = z == 0\n",
    "    if np.any(j):\n",
    "            pxx[i] = y[j][0]\n",
    "    else:\n",
    "            mu = barweight / z\n",
    "            pxx[i] = np.dot(mu, y) / np.sum(mu)\n",
    "  return pxx\n",
    "\n"
   ]
  },
  {
   "cell_type": "markdown",
   "id": "6c41859a-60fb-4936-aead-5f27958817c8",
   "metadata": {},
   "source": [
    "## Chebychev Interpolation\n",
    "- Gibt uns die Chebyshev Polynome(wichtig!)\n",
    "- Schnelle und akkurate PolynomInterpolation\n",
    "\n",
    "Definition der Chebyshev Polynome:"
   ]
  },
  {
   "cell_type": "code",
   "execution_count": null,
   "id": "e443ef6b-3384-4fc2-a79b-9599ec04ffba",
   "metadata": {
    "jupyter": {
     "source_hidden": true
    }
   },
   "outputs": [],
   "source": [
    "#Clenshaw Interpolation by Leonard Marks(maybe not best due to memory usage, update later)\n",
    "import numpy as np\n",
    "\n",
    "#Leonards Solution\n",
    "def clenshawLeo(a,x):\n",
    "  # TODO: implementiere hier Clenshaw\n",
    "  #start computing the values of d starting at d_n and moving backwards\n",
    "  M = np.zeros((len(x),len(a)+1,))\n",
    "  #Row j of M compute holds the n values of d_k for d_0 until d_1 \n",
    "  M[:,-2] = a[-1]\n",
    "  #Initialized the nth column of M with c_n as d_n = c_n via the recursive relation of d_k\n",
    "  for i in range(len(a)-2, -1, -1):\n",
    "    #Notice that M[:,i] is the ith column of the Matrix M\n",
    "    M[:,i] = a[i]+2*x*M[:,i+1] - M[:,i+2]\n",
    "    #simply applied the recursive formula for d_i\n",
    "  y = np.ravel(M[:,0]-x*M[:,1])\n",
    "  #flatten out the result of d_0 - x*d_1\n",
    "  return y\n",
    "\n",
    "#Master Solution\n",
    "def clenshaw(a,x):\n",
    "    # degree of polynomial\n",
    "    n = len(a) - 1\n",
    "    # initialise temporary variables\n",
    "    dkp2, dkp1, dk = np.zeros_like(x), np.zeros_like(x), np.zeros_like(x)\n",
    "    \n",
    "    for k in range(n, -1, -1): # backward recursion\n",
    "        dk = a[k] + 2*x*dkp1 - dkp2\n",
    "        dkp2, dkp1 = dkp1, dk\n",
    "\n",
    "    y =  dkp1 - x*dkp2\n",
    "    return y"
   ]
  },
  {
   "cell_type": "markdown",
   "id": "37601fb0-9ed0-41ac-863f-7df55a71cb1d",
   "metadata": {},
   "source": [
    "# Zusammengefasster Vergleich\n",
    "\n",
    "vergleiche [lagrange](#Lagrange-Polynome)"
   ]
  },
  {
   "cell_type": "markdown",
   "id": "38bfcd2d-d22f-4981-bd18-e0e5e0c00a80",
   "metadata": {},
   "source": [
    "# Fehleranalyse"
   ]
  }
 ],
 "metadata": {
  "kernelspec": {
   "display_name": "Python 3 (ipykernel)",
   "language": "python",
   "name": "python3"
  },
  "language_info": {
   "codemirror_mode": {
    "name": "ipython",
    "version": 3
   },
   "file_extension": ".py",
   "mimetype": "text/x-python",
   "name": "python",
   "nbconvert_exporter": "python",
   "pygments_lexer": "ipython3",
   "version": "3.13.7"
  }
 },
 "nbformat": 4,
 "nbformat_minor": 5
}
