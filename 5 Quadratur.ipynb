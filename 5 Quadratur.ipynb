{
 "cells": [
  {
   "cell_type": "code",
   "execution_count": 1,
   "id": "e7e0a7ce42063661",
   "metadata": {
    "ExecuteTime": {
     "end_time": "2025-10-27T16:32:00.125399Z",
     "start_time": "2025-10-27T16:32:00.006754Z"
    }
   },
   "outputs": [],
   "source": [
    "import numpy as np\n",
    "import scipy"
   ]
  },
  {
   "cell_type": "markdown",
   "id": "d4e9e64695bab874",
   "metadata": {
    "collapsed": true,
    "jupyter": {
     "outputs_hidden": true
    }
   },
   "source": [
    "# Numerische Quadratur\n",
    "Definition der Quadratur (Approximation eines Integrals), wobei c die Stützstellen sind und w die Gewichte.\n",
    "$$\n",
    "\\int_{a}^{b} f(x) \\, dx \\approx Q_n(f; a, b) :=  \\sum_{i=1}^{n} w_i f(c_i).\n",
    "$$\n",
    "Definition des Fehlers einer Quadratur\n",
    "$$\n",
    "E(n) := \\left| \\int_{a}^{b} f(x) \\, dx - Q_n(f; a, b) \\right|\n",
    "$$\n",
    "Definition der algebraischen Konvergenz\n",
    "$E(n) = O\\left( \\frac{1}{n^p} \\right)$\n",
    "\n",
    "Definition der exponentiellen Konvergenz\n",
    "$E(n) = O\\left( q^n \\right)$ mit $0 \\leq q < 1$\n"
   ]
  },
  {
   "cell_type": "markdown",
   "id": "5d2a21fe734fc8ad",
   "metadata": {},
   "source": [
    "## 5.4 Äquidistante Stützstellen\n",
    "\n",
    "### Einfache Regeln zum Approximieren\n",
    "### Theorem zur Konvergenz\n",
    "$$\n",
    "\\left| \\int_{I} f(t) \\, dt - Q(f) \\right| \\leq C h^p \\, \\|f^{(p)} \\|_{L^\\infty(I)}\n",
    "$$\n",
    "Der Integrationsfehler hängt von der $p$-ten Ableitung der Funktion $f$ ab.\n",
    "Die Schranke für den Fehler ist nur anwendbar, falls $f \\in C^p(I)$ gilt, also $f$ $p$-fach stetig differenzierbar ist. Ist $f$ hinreichend differenzierbar ($f \\in C^p$), so erzielt das Verfahren seine optimale Genauigkeit.\n",
    "Fehlt jedoch diese Differenzierbarkeitsstufe ($f \\notin C^p$), bleibt die erwartete Höchstleistung unerreicht und die Konvergenzgeschwindigkeit liegt unter $p$."
   ]
  },
  {
   "cell_type": "markdown",
   "id": "8aeee229ffa6d5ba",
   "metadata": {},
   "source": [
    "Mittelpunkt-Regel\n",
    "$$\n",
    "Q^{M}(f; a, b) = (b-a) f \\left( \\frac{a+b}{2} \\right)\n",
    "$$\n"
   ]
  },
  {
   "cell_type": "code",
   "execution_count": 1,
   "id": "602578a1c7f81ffe",
   "metadata": {
    "ExecuteTime": {
     "end_time": "2025-10-28T17:00:31.143199Z",
     "start_time": "2025-10-28T17:00:31.140011Z"
    }
   },
   "outputs": [],
   "source": [
    "def midpoint(f, a, b, N):\n",
    "    \"\"\"\n",
    "    Midpoint quadrature rule for numerical integration.\n",
    "    \n",
    "    Parameters:\n",
    "    f: Function to integrate, f(x)\n",
    "    a: Lower bound of integration interval\n",
    "    b: Upper bound of integration interval\n",
    "    N: Number of subintervals\n",
    "    \n",
    "    Returns:\n",
    "    I: Approximation of the integral using the midpoint rule\n",
    "    \"\"\"\n",
    "    # Create N+1 equally spaced points from a to b and get step size h\n",
    "    x, h = np.linspace(a, b, int(N) + 1, retstep=True)\n",
    "    # Calculate midpoints between consecutive points and evaluate f at these midpoints\n",
    "    # Sum all contributions: h * f(midpoint) for each subinterval\n",
    "    I = np.sum(h * f((x[:-1] + x[1:]) / 2))\n",
    "    return I\n"
   ]
  },
  {
   "cell_type": "markdown",
   "id": "261042f896c2d484",
   "metadata": {},
   "source": [
    "Trapez-Regel\n",
    "$$\n",
    "Q^{T}(f; a, b) = \\frac{b-a}{2} (f(a) + f(b))\n",
    "$$\n"
   ]
  },
  {
   "cell_type": "code",
   "execution_count": null,
   "id": "22a87da832fd2b31",
   "metadata": {},
   "outputs": [],
   "source": [
    "def trapezoidal(f, a, b, N):\n",
    "    \"\"\"\n",
    "    Trapezoidal quadrature of function f from a to b with N subintervals.\n",
    "    f: Function f(x)\n",
    "    a, b: Bounds of the integration interval\n",
    "    N: Number of subintervals\n",
    "    \"\"\"\n",
    "    x, h = np.linspace(a, b, int(N)+1, retstep=True)\n",
    "    # quadrature weights:\n",
    "    # boundary nodes: w=1/2\n",
    "    # internal nodes: w=1\n",
    "    I = h/2.0 * (f(x[0]) + 2.0*sum(f(x[1:-1])) + f(x[-1]))\n",
    "    return I"
   ]
  },
  {
   "cell_type": "markdown",
   "id": "651411299cc5c7f2",
   "metadata": {},
   "source": [
    "Simpson-Regel\n",
    "$$\n",
    "Q^{S}(f; a, b) = \\frac{b-a}{6} \\left ( f(a) + 4 f\\left (\\frac{a+b}{2} \\right) + f(b) \\right)\n",
    "$$"
   ]
  },
  {
   "cell_type": "code",
   "execution_count": null,
   "id": "3b5b24ce3c9dd870",
   "metadata": {},
   "outputs": [],
   "source": [
    "def simpson(f, a, b, N):\n",
    "    \"\"\"\n",
    "    Simpson quadrature of function f from a to b with N subintervals.\n",
    "    f: Function f(x)\n",
    "    a, b: Bounds of the integration interval\n",
    "    N: Number of subintervals\n",
    "    this method uses 2*N+1 function evaluations\n",
    "    \"\"\"\n",
    "    x, h = np.linspace(a, b, 2*int(N)+1, retstep=True)\n",
    "    # quadrature weights:\n",
    "    # boundary nodes: w=1/3\n",
    "    # internal nodes: w=2/3\n",
    "    # midpoint nodes: w=4/3\n",
    "    I = h/3.0 * sum(f(x[:-2:2]) + 4.0*f(x[1:-1:2]) + f(x[2::2]))\n",
    "    return I"
   ]
  },
  {
   "cell_type": "code",
   "execution_count": null,
   "id": "35c39352bccb62ae",
   "metadata": {},
   "outputs": [],
   "source": [
    "# !TODO Romberg Schema"
   ]
  },
  {
   "cell_type": "markdown",
   "id": "37a8bdf6f9b07c4f",
   "metadata": {},
   "source": [
    "## 5.5 Nicht äquidistante Stützstellen\n",
    "### Definition Orthogonale Polynome:\n",
    "Für eine Gewichtsfunktion $\\omega(x)$ ($w\\ne\\omega$) definieren wir das Skalarprodukt wie folgt.\n",
    "$$\n",
    "\\langle f, g \\rangle := \\int_{a}^{b} f(x) g(x) \\, \\omega(x) \\, dx\n",
    "$$\n",
    "Theorem: Für ein wie oben definiertes Skalarprodukt existiert eine eindeutige Folge\n",
    "von Polynomen $p0$, $p1$, $p2$, . . . sodass diese paarweise orthogonal sind und $deg(pi) = i$\n",
    "gilt.\n",
    "#### Definition des Skalarprodukts für Legendre-Polynome\n",
    "Die Gewichts funktion ist $\\omega(x) = 1$\n",
    "$$\n",
    "\\langle f, g \\rangle := \\int_{-1}^{1} f(x) g(x) \\, dx\n",
    "$$\n",
    "\n",
    "### Jacobi Polynome\n",
    "Die Legendre-Polynome sind ein Spezialfall der Jacobi-Polynome.\n",
    "Jacobi-Polynome sind orthogonal bezüglich des Skalarprodukts:\n",
    "$$\n",
    "\\langle f, g \\rangle := \\int_{-1}^{1} f(x) g(x) (1-x)^\\alpha (1+x)^\\beta \\, dx\n",
    "$$\n",
    "Durch geeignete Wahl von $\\alpha$ und $\\beta$ bekommt man neue Quadraturen.\n",
    "####\n",
    "### 5.5.1 Gaus Quadratur\n",
    "**Motivation**:\n",
    "Die Gauss-Quadratur macht keine Annahme über Abstände (also nicht äquidistant),\n",
    "sondern sucht Punkte und Gewichte so, dass Polynome bis zum einem möglichst hohen\n",
    "Grad exakt integriert werden\n",
    "\n",
    "**Definition**\n",
    "$$\n",
    "\\int_{-1}^{1} f(x) \\, dx \\approx \\sum_{i=1}^{n} w_i f(x_i)\n",
    "$$"
   ]
  },
  {
   "cell_type": "markdown",
   "id": "7a9bab52ab0c4f4f",
   "metadata": {},
   "source": [
    "#### Gaus-Legendre Quadratur\n",
    "Die Gewichts funktion ist $\\omega(x) = 1$.\n",
    "\n",
    "$\\alpha = 0, \\beta = 0$\n",
    "\n",
    "**Theorem**: Die Knoten $x_1, . . . , x_n$, die diese Eigenschaft erfüllen, sind die Nullstellen\n",
    "des Legendre-Polynoms $p_n(x)$."
   ]
  },
  {
   "cell_type": "code",
   "execution_count": null,
   "id": "29a2bdbae65af56e",
   "metadata": {},
   "outputs": [],
   "source": [
    "def gauss_legendre(f, a, b, n):\n",
    "    r\"\"\"Integrate f, over [a, b], using Gauss-Legendre quadrature.\n",
    "\n",
    "    f       : function to integrate\n",
    "    a       : left end\n",
    "    b       : right end\n",
    "    n       : degree of the quadrature rule\n",
    "    \"\"\"\n",
    "    xn, wn = scipy.special.roots_legendre(n)\n",
    "    x = 0.5 * (b-a) * xn + (a+b) / 2\n",
    "    w = 0.5 * (b-a) * wn\n",
    "    return np.sum(w*f(x))\n"
   ]
  },
  {
   "cell_type": "markdown",
   "id": "ac6882f9e48365de",
   "metadata": {},
   "source": [
    "#### Gaus-Radau Quadratur\n",
    "Die Gewichtsfunktion ist $omega(x) = 1$.\n",
    "Falls der rechte Rand fixiert ist, gilt: $\\alpha = 1, \\beta = 0$, ansonsten falls der linke Rand fixiert ist: $\\alpha = 0, \\beta = 1$."
   ]
  },
  {
   "cell_type": "code",
   "execution_count": 1,
   "id": "3454736869c368e2",
   "metadata": {
    "ExecuteTime": {
     "end_time": "2025-10-29T11:59:36.050001Z",
     "start_time": "2025-10-29T11:59:36.047194Z"
    }
   },
   "outputs": [],
   "source": [
    "def gauss_radau(f, a, b, n, fixed='r'):\n",
    "    \"\"\"\n",
    "    Integrate f over [a, b] using Gauss–Radau quadrature.\n",
    "\n",
    "    Parameters\n",
    "    ----------\n",
    "    f : callable\n",
    "        Function to integrate.\n",
    "    a, b : float\n",
    "        Integration interval.\n",
    "    n : int\n",
    "        Number of nodes (including the fixed one).\n",
    "    fixed : {'r', 'l'}, optional\n",
    "        Fixed endpoint:\n",
    "        - 'r': right endpoint (x = 1) included.\n",
    "        - 'l': left endpoint (x = -1) included.\n",
    "    \"\"\"\n",
    "    if fixed == 'r':\n",
    "        # Right endpoint fixed at x=1\n",
    "        r, w = scipy.special.roots_jacobi(n-1, alpha=1, beta=0)\n",
    "        nodes = np.hstack((r, [1.0]))\n",
    "        weights = np.hstack((w / (1 - r), [2 / n**2]))\n",
    "    else:\n",
    "        # Left endpoint fixed at x=-1\n",
    "        r, w = scipy.special.roots_jacobi(n-1, alpha=0, beta=1)\n",
    "        nodes = np.hstack(([-1.0], r))\n",
    "        weights = np.hstack(([2 / n**2], w / (1 + r)))\n",
    "\n",
    "    # Map from [-1, 1] → [a, b]\n",
    "    x = 0.5 * (b - a) * nodes + 0.5 * (a + b)\n",
    "    w = 0.5 * (b - a) * weights\n",
    "\n",
    "    return np.sum(w * f(x))"
   ]
  },
  {
   "cell_type": "markdown",
   "id": "aa33e8e5efb26183",
   "metadata": {},
   "source": [
    "#### Gaus-Lobatto Quadratur\n",
    "Die Gewichtsfunktion ist $omega(x) = 1$.\n",
    "Beide Ränder der Knoten sind fixiert. $\\alpha = 1, \\beta = 1$"
   ]
  },
  {
   "cell_type": "code",
   "execution_count": 2,
   "id": "1fb28f4147da9516",
   "metadata": {
    "ExecuteTime": {
     "end_time": "2025-10-29T12:08:54.566861Z",
     "start_time": "2025-10-29T12:08:54.557923Z"
    }
   },
   "outputs": [],
   "source": [
    "def gauss_lobatto(f, a, b, n):\n",
    "    \"\"\"\n",
    "    Integrate f over [a, b] using Gauss–Lobatto quadrature\n",
    "    with n nodes (including endpoints), using roots_jacobi.\n",
    "\n",
    "    Parameters\n",
    "    ----------\n",
    "    f : callable\n",
    "        Function to integrate.\n",
    "    a, b : float\n",
    "        Integration interval.\n",
    "    n : int\n",
    "        Number of nodes (including the fixed one).\n",
    "    \"\"\"\n",
    "    if n < 2:\n",
    "        raise ValueError(\"Gauss–Lobatto requires at least 2 nodes\")\n",
    "\n",
    "    if n == 2:\n",
    "        # Only endpoints\n",
    "        nodes = np.array([-1.0, 1.0])\n",
    "        weights = np.array([1.0, 1.0])\n",
    "    else:\n",
    "        # Internal nodes and weights from Jacobi(n-2,1,1)\n",
    "        internal_nodes, internal_weights = scipy.special.roots_jacobi(n-2, alpha=1, beta=1)\n",
    "\n",
    "        # All nodes\n",
    "        nodes = np.hstack(([-1.0], internal_nodes, [1.0]))\n",
    "\n",
    "        # All weights\n",
    "        weights = np.zeros(n)\n",
    "        weights[0] = 2 / (n * (n-1))      # left endpoint\n",
    "        weights[-1] = 2 / (n * (n-1))     # right endpoint\n",
    "\n",
    "        # Internal weights: scale Jacobi weights\n",
    "        weights[1:-1] = internal_weights * 2 / (n*(n-1))\n",
    "\n",
    "    # Map from [-1,1] → [a,b]\n",
    "    x = 0.5*(b - a)*nodes + 0.5*(a + b)\n",
    "    w = 0.5*(b - a)*weights\n",
    "\n",
    "    return np.sum(w * f(x))"
   ]
  },
  {
   "cell_type": "markdown",
   "id": "38631afd-97de-49d2-b4a0-3e299904dab8",
   "metadata": {},
   "source": [
    "# 5.7 Quadratur in $\\mathbb{R}^d$ und dünne Gitter?\n",
    "Zwar sind Dünne Gitter nicht Prüfungsrelevant, so ist Quadratur in $\\mathbb{R}^d$ generell nicht unrelevant\n",
    "\n",
    "Inhalt:\n",
    "- Integrale von Funktionen $f:\\mathbb{R}^d -> \\mathbb{R}$\n",
    "- Naiver Ansatz durch Tensor Produkt\n",
    "- Sparse Grids aus spass?\n",
    "\n",
    "**Später** wird die Quadratur in $\\mathbb{R}^d$ im Kapitel [5.8 Monte Carlo Methoden]( \n",
    "weitergeführt\n",
    "Generell gilt analytisch durch Fubinis Theorem:  \n",
    "$$ X \\in \\mathbb{R}^d$$\n",
    "$$\\int_{\\Omega}f(X)d(X) = \\int_{a_1}^{b_1}\\int_{a_2}^{b_2}\\dots\\int_{a_d}^{b_d}f(x,...,x_d)dx_d...dx_2dx_1$$\n",
    "\n",
    "Illustration Anhand vom Fall $\\mathbb{R}^2$  \n",
    "$$\\int_a^b\\int_a^bf(x,y)dxdy = \\int_a^bF(y)dy$$\n",
    "\n",
    "$$I = \\sum_{j_2=1}^{n_1}\\omega_{j_1}w_{j_2}f(c_{j_1},c_{j_2})$$\n",
    "\n",
    "Zunächst **Implementation von diesem Naiven Approach**  \n",
    "Problem:\n",
    "wenn wir einer der Regeln Trapez, Mittelpunkt oder Simpson anwenden wollen\n",
    "müssen wir zunächst die Gewichte finden.\n",
    "\n",
    "**Summierte-Trapez-Regel**\n",
    "Aufspalten in Gewichte und Knoten:  \n",
    "$$I^T(f;a,b) \\approx \\dfrac{h}{2}f(a) + \\dfrac{h}{2}2*\\sum_{i=1}^{N-1}f(x_i) + \\dfrac{h}{2}f(b)$$\n",
    "$$=>$$\n",
    "$$\\omega_i = h, i \\in \\{1,...,N-1\\}, \\omega_0 = \\omega_N = \\dfrac{h}{2}$$\n",
    "$$c_i = np.linspace(a,b,N+1)$$\n",
    "Meshgrid:\n",
    "$$\n",
    "\\begin{array}{c|ccccc}\n",
    "  & x_0 & x_1 & x_2 & x_3 & x_4 \\\\\n",
    "\\hline\n",
    "y_0 & f(x_0,y_0) & f(x_1,y_0) & f(x_2,y_0) & f(x_3,y_0) & f(x_4,y_0) \\\\\n",
    "y_1 & f(x_0,y_1) & f(x_1,y_1) & f(x_2,y_1) & f(x_3,y_1) & f(x_4,y_1) \\\\\n",
    "y_2 & f(x_0,y_2) & f(x_1,y_2) & f(x_2,y_2) & f(x_3,y_2) & f(x_4,y_2) \\\\\n",
    "y_3 & f(x_0,y_3) & f(x_1,y_3) & f(x_2,y_3) & f(x_3,y_3) & f(x_4,y_3) \\\\\n",
    "y_4 & f(x_0,y_4) & f(x_1,y_4) & f(x_2,y_4) & f(x_3,y_4) & f(x_4,y_4)\n",
    "\\end{array}\n",
    "$$\n",
    "Erklärung:\n",
    "Aus der verschachtelten Summe sehen wir, dass wir jedes Knotenpaar benötigen für die Auswertung. Meshgrid = Kartesischen Produkt(x,y)\n",
    "$$\n",
    "\\begin{array}{c|ccccc}\n",
    "  & x_0 & x_1 & x_2 & x_3 & x_4 \\\\\n",
    "\\hline\n",
    "y_0 & (x_0,y_0) & (x_1,y_0) & (x_2,y_0) & (x_3,y_0) & (x_4,y_0) \\\\\n",
    "y_1 & (x_0,y_1) & (x_1,y_1) & (x_2,y_1) & (x_3,y_1) & (x_4,y_1) \\\\\n",
    "y_2 & (x_0,y_2) & (x_1,y_2) & (x_2,y_2) & (x_3,y_2) & (x_4,y_2) \\\\\n",
    "y_3 & (x_0,y_3) & (x_1,y_3) & (x_2,y_3) & (x_3,y_3) & (x_4,y_3) \\\\\n",
    "y_4 & (x_0,y_4) & (x_1,y_4) & (x_2,y_4) & (x_3,y_4) & (x_4,y_4)\n",
    "\\end{array}\n",
    "$$\n",
    "Gewichte Multipliziert:\n",
    "$$\n",
    "\\begin{array}{c|ccccc}\n",
    "  & x_0 & x_1 & x_2 & x_3 & x_4 \\\\\n",
    "\\hline\n",
    "y_0 & \\tfrac{h^2}{4}f(x_0,y_0) & \\tfrac{h^2}{2}f(x_1,y_0) & \\tfrac{h^2}{2}f(x_2,y_0) & \\tfrac{h^2}{2}f(x_3,y_0) & \\tfrac{h^2}{4}f(x_4,y_0) \\\\\n",
    "y_1 & \\tfrac{h^2}{2}f(x_0,y_1) & h^2 f(x_1,y_1) & h^2 f(x_2,y_1) & h^2 f(x_3,y_1) & \\tfrac{h^2}{2}f(x_4,y_1) \\\\\n",
    "y_2 & \\tfrac{h^2}{2}f(x_0,y_2) & h^2 f(x_1,y_2) & h^2 f(x_2,y_2) & h^2 f(x_3,y_2) & \\tfrac{h^2}{2}f(x_4,y_2) \\\\\n",
    "y_3 & \\tfrac{h^2}{2}f(x_0,y_3) & h^2 f(x_1,y_3) & h^2 f(x_2,y_3) & h^2 f(x_3,y_3) & \\tfrac{h^2}{2}f(x_4,y_3) \\\\\n",
    "y_4 & \\tfrac{h^2}{4}f(x_0,y_4) & \\tfrac{h^2}{2}f(x_1,y_4) & \\tfrac{h^2}{2}f(x_2,y_4) & \\tfrac{h^2}{2}f(x_3,y_4) & \\tfrac{h^2}{4}f(x_4,y_4)\n",
    "\\end{array}\n",
    "$$\n",
    "Erklärung:\n",
    "Wie oben Illustriert sind die Gewichte der Randpunkte bei der Trapezregel unteschiedlich. Beim meshgrid haben wir die Randpunkte von x und y auf dem Rand.\n",
    "Ergebnis: Summe von Elementen im Mesh\n",
    "**Annahme**: Hier nehmen wir an, dass $(b-a)/N_x = (d-c)/N_y$, also dass auf der x und y achse die Intervalle Identisch sind. Falls anders, so hätten wir verschiedene Intervallängen h also $h_x = (b-a)/N_x$, $h_y = (d-c)/N_y$\n",
    "\n",
    "**Summierte-Simpson-Regel**:\n",
    "$$I^S(f;a,b) \\approx \\dfrac{h}{6}(f(a) + 2\\sum_{i=1}^{N-1}f(x_i) + 4\\sum_{i=1}^Nf(\\dfrac{x_{i-1} + x_i}{2}) + f(b))$$\n",
    "$$\\omega_0 = \\omega_{2N} = \\dfrac{h}{6}$$\n",
    "$$\\omega_{2i} = \\dfrac{h}{6}*2, i \\in \\{i\\,even\\,and\\,not\\,0\\,or\\,2N\\}$$\n",
    "$$\\omega_{2i} = \\dfrac{h}{6}*4, i \\in\\{i\\,odd\\,and\\,not\\,0\\,or\\,2N\\}$$\n",
    "$$c_i = np.linspace(a,b,2N+1)$$\n",
    "Die anwendung ist hier ähnlich. Man muss einfach beachten, wo die Gewichte sich Wiederholen im Meshgrid. \n",
    "Dem Leser ist es überlassen, wie man das fuer Simpson implementiert indem die Trapezregel in $\\mathbb{R}^2$ verstanden wird.\n",
    "\n",
    "Mögliche Umsetzung in $\\mathbb{R}^d$ für ein Viereck (sollte sehr ähnlich sein in $\\mathbb{R}^2$. Für **Gauss Quadratur** sollte es jetzt relativ intuitiv sein wie man es implementiert\n"
   ]
  },
  {
   "cell_type": "code",
   "execution_count": null,
   "id": "b94c424a-68be-4d16-bfc6-e1153ba3f74e",
   "metadata": {
    "jupyter": {
     "source_hidden": true
    }
   },
   "outputs": [],
   "source": [
    "#Code-Expert-Week6 Task 4\n",
    "import numpy as np\n",
    "def trapezoid2d(f, a, b, Nx, c, d, Ny):\n",
    "    \"\"\"Approximiert das Doppelintegral mit der Trapezregel.\n",
    "\n",
    "    Input:\n",
    "           f : Funktion f(x, y) welche integiert werden soll.\n",
    "        a, b : untere/obere Grenze des Integrals nach 'dx'.\n",
    "          Nx : Anzahl Teilintervalle des Integrals nach 'dx'.\n",
    "        c, d : untere/obere Grenze des Integrals nach 'dy'.\n",
    "          Ny : Anzahl Teilintervalle des Integrals nach 'dy'.\n",
    "    \"\"\"\n",
    "    h1 = (b-a)/(Nx) # Intervallänge X-Achse \n",
    "    h2 = (d-c)/(Ny) # Intervallänge Y-Achse\n",
    "    c1 = np.linspace(a,b,Nx+1)\n",
    "    c2 = np.linspace(c,d,Ny+1)\n",
    "    cartesian_product = np.array(np.meshgrid(c1,c2),dtype=float)\n",
    "    function_vals = f(cartesian_product[0],cartesian_product[1])\n",
    "    length = len(function_vals[0])\n",
    "    height = len(function_vals[:,0])\n",
    "    function_vals[[0, -1], :] /= 2.0\n",
    "    function_vals[:, [0, -1]] /= 2.0\n",
    "    return np.sum(h1*h2*function_vals)  # Bitte ersetzen.\n",
    "def simpson2d(f, a, b, Nx, c, d, Ny):\n",
    "    \"\"\"Approximiert das Doppelintegral mit der Trapezregel.\n",
    "\n",
    "    Input:\n",
    "           f : Funktion f(x, y) welche integiert werden soll.\n",
    "\n",
    "        a, b : untere, obere Grenze des Integrals nach 'dx'.\n",
    "          Nx : Anzahl Teilintervalle für das Integral über 'x'.\n",
    "\n",
    "        c, d : untere, obere Grenze des Integrals nach 'dy'.\n",
    "          Ny : Anzahl Teilintervalle für das Integral über 'y'.\n",
    "    \"\"\"\n",
    "    h1 = (b-a)/Nx\n",
    "    h2 = (d-c)/Ny\n",
    "    c1 = np.linspace(a,b,2*Nx+1)\n",
    "    c2 = np.linspace(c,d,2*Ny+1)\n",
    "    point_mesh = np.meshgrid(c1,c2)\n",
    "    f_vals = f(point_mesh[0], point_mesh[1])\n",
    "    f_vals[1::2, :] *= 4/6.0\n",
    "    f_vals[2:-1:2, :] *= 2/6.0\n",
    "    f_vals[:, 1::2] *= 4/6.0\n",
    "    f_vals[:, 2:-1:2] *= 2/6.0\n",
    "    f_vals[[0, -1], :] /= 6.0\n",
    "    f_vals[:, [0, -1]] /= 6.0\n",
    "    # TODO vervollständigen Sie das Template.\n",
    "\n",
    "    return np.sum(h1*h2*f_vals) # Bitte ersetzen.\n"
   ]
  }
 ],
 "metadata": {
  "kernelspec": {
   "display_name": "Python 3 (ipykernel)",
   "language": "python",
   "name": "python3"
  },
  "language_info": {
   "codemirror_mode": {
    "name": "ipython",
    "version": 3
   },
   "file_extension": ".py",
   "mimetype": "text/x-python",
   "name": "python",
   "nbconvert_exporter": "python",
   "pygments_lexer": "ipython3",
   "version": "3.13.7"
  }
 },
 "nbformat": 4,
 "nbformat_minor": 5
}
