{
 "cells": [
  {
   "metadata": {
    "ExecuteTime": {
     "end_time": "2025-10-27T16:32:00.125399Z",
     "start_time": "2025-10-27T16:32:00.006754Z"
    }
   },
   "cell_type": "code",
   "source": [
    "import numpy as np\n",
    "import scipy"
   ],
   "id": "e7e0a7ce42063661",
   "outputs": [],
   "execution_count": 1
  },
  {
   "metadata": {
    "collapsed": true
   },
   "cell_type": "markdown",
   "source": [
    "# Numerische Quadratur\n",
    "Definition der Quadratur (Approximation eines Integrals), wobei c die Stützstellen sind und w die Gewichte.\n",
    "$$\n",
    "\\int_{a}^{b} f(x) \\, dx \\approx Q_n(f; a, b) :=  \\sum_{i=1}^{n} w_i f(c_i).\n",
    "$$\n",
    "Definition des Fehlers einer Quadratur\n",
    "$$\n",
    "E(n) := \\left| \\int_{a}^{b} f(x) \\, dx - Q_n(f; a, b) \\right|\n",
    "$$\n",
    "Definition der algebraischen Konvergenz\n",
    "$E(n) = O\\left( \\frac{1}{n^p} \\right)$\n",
    "\n",
    "Definition der exponentiellen Konvergenz\n",
    "$E(n) = O\\left( q^n \\right)$ mit $0 \\leq q < 1$\n"
   ],
   "id": "d4e9e64695bab874"
  },
  {
   "metadata": {},
   "cell_type": "markdown",
   "source": [
    "## 5.4 Äquidistante Stützstellen\n",
    "\n",
    "### Einfache Regeln zum Approximieren\n",
    "### Theorem zur Konvergenz\n",
    "$$\n",
    "\\left| \\int_{I} f(t) \\, dt - Q(f) \\right| \\leq C h^p \\, \\|f^{(p)} \\|_{L^\\infty(I)}\n",
    "$$\n",
    "Der Integrationsfehler hängt von der $p$-ten Ableitung der Funktion $f$ ab.\n",
    "Die Schranke für den Fehler ist nur anwendbar, falls $f \\in C^p(I)$ gilt, also $f$ $p$-fach stetig differenzierbar ist. Ist $f$ hinreichend differenzierbar ($f \\in C^p$), so erzielt das Verfahren seine optimale Genauigkeit.\n",
    "Fehlt jedoch diese Differenzierbarkeitsstufe ($f \\notin C^p$), bleibt die erwartete Höchstleistung unerreicht und die Konvergenzgeschwindigkeit liegt unter $p$."
   ],
   "id": "5d2a21fe734fc8ad"
  },
  {
   "metadata": {},
   "cell_type": "markdown",
   "source": [
    "Mittelpunkt-Regel\n",
    "$$\n",
    "Q^{M}(f; a, b) = (b-a) f \\left( \\frac{a+b}{2} \\right)\n",
    "$$\n"
   ],
   "id": "8aeee229ffa6d5ba"
  },
  {
   "metadata": {
    "ExecuteTime": {
     "end_time": "2025-10-28T17:00:31.143199Z",
     "start_time": "2025-10-28T17:00:31.140011Z"
    }
   },
   "cell_type": "code",
   "source": [
    "def midpoint(f, a, b, N):\n",
    "    \"\"\"\n",
    "    Midpoint quadrature rule for numerical integration.\n",
    "    \n",
    "    Parameters:\n",
    "    f: Function to integrate, f(x)\n",
    "    a: Lower bound of integration interval\n",
    "    b: Upper bound of integration interval\n",
    "    N: Number of subintervals\n",
    "    \n",
    "    Returns:\n",
    "    I: Approximation of the integral using the midpoint rule\n",
    "    \"\"\"\n",
    "    # Create N+1 equally spaced points from a to b and get step size h\n",
    "    x, h = np.linspace(a, b, int(N) + 1, retstep=True)\n",
    "    # Calculate midpoints between consecutive points and evaluate f at these midpoints\n",
    "    # Sum all contributions: h * f(midpoint) for each subinterval\n",
    "    I = np.sum(h * f((x[:-1] + x[1:]) / 2))\n",
    "    return I\n"
   ],
   "id": "602578a1c7f81ffe",
   "outputs": [],
   "execution_count": 1
  },
  {
   "metadata": {},
   "cell_type": "markdown",
   "source": [
    "Trapez-Regel\n",
    "$$\n",
    "Q^{T}(f; a, b) = \\frac{b-a}{2} (f(a) + f(b))\n",
    "$$\n"
   ],
   "id": "261042f896c2d484"
  },
  {
   "metadata": {},
   "cell_type": "code",
   "outputs": [],
   "execution_count": null,
   "source": [
    "def trapezoidal(f, a, b, N):\n",
    "    \"\"\"\n",
    "    Trapezoidal quadrature of function f from a to b with N subintervals.\n",
    "    f: Function f(x)\n",
    "    a, b: Bounds of the integration interval\n",
    "    N: Number of subintervals\n",
    "    \"\"\"\n",
    "    x, h = np.linspace(a, b, int(N)+1, retstep=True)\n",
    "    # quadrature weights:\n",
    "    # boundary nodes: w=1/2\n",
    "    # internal nodes: w=1\n",
    "    I = h/2.0 * (f(x[0]) + 2.0*sum(f(x[1:-1])) + f(x[-1]))\n",
    "    return I"
   ],
   "id": "22a87da832fd2b31"
  },
  {
   "metadata": {},
   "cell_type": "markdown",
   "source": [
    "Simpson-Regel\n",
    "$$\n",
    "Q^{S}(f; a, b) = \\frac{b-a}{6} \\left ( f(a) + 4 f\\left (\\frac{a+b}{2} \\right) + f(b) \\right)\n",
    "$$"
   ],
   "id": "651411299cc5c7f2"
  },
  {
   "metadata": {},
   "cell_type": "code",
   "outputs": [],
   "execution_count": null,
   "source": [
    "def simpson(f, a, b, N):\n",
    "    \"\"\"\n",
    "    Simpson quadrature of function f from a to b with N subintervals.\n",
    "    f: Function f(x)\n",
    "    a, b: Bounds of the integration interval\n",
    "    N: Number of subintervals\n",
    "    this method uses 2*N+1 function evaluations\n",
    "    \"\"\"\n",
    "    x, h = np.linspace(a, b, 2*int(N)+1, retstep=True)\n",
    "    # quadrature weights:\n",
    "    # boundary nodes: w=1/3\n",
    "    # internal nodes: w=2/3\n",
    "    # midpoint nodes: w=4/3\n",
    "    I = h/3.0 * sum(f(x[:-2:2]) + 4.0*f(x[1:-1:2]) + f(x[2::2]))\n",
    "    return I"
   ],
   "id": "3b5b24ce3c9dd870"
  },
  {
   "metadata": {},
   "cell_type": "code",
   "outputs": [],
   "execution_count": null,
   "source": "# !TODO Romberg Schema",
   "id": "35c39352bccb62ae"
  },
  {
   "metadata": {},
   "cell_type": "markdown",
   "source": [
    "## 5.5 Nicht äquidistante Stützstellen\n",
    "### Definition Orthogonale Polynome:\n",
    "Für eine Gewichtsfunktion $\\omega(x)$ definieren wir das Skalarprodukt wie folgt.\n",
    "$$\n",
    "\\langle f, g \\rangle := \\int_{a}^{b} f(x) g(x) \\, \\omega(x) \\, dx\n",
    "$$\n",
    "Theorem: Für ein wie oben definiertes Skalarprodukt existiert eine eindeutige Folge\n",
    "von Polynomen $p0$, $p1$, $p2$, . . . sodass diese paarweise orthogonal sind und $deg(pi) = i$\n",
    "gilt.\n",
    "#### Definition des Skalarprodukts für Legendre-Polynome\n",
    "Die Gewichts funktion ist $omega(x) = 1$\n",
    "$$\n",
    "\\langle f, g \\rangle := \\int_{-1}^{1} f(x) g(x) \\, dx\n",
    "$$\n",
    "\n",
    "### Jacobi Polynome\n",
    "Die Legendre-Polynome sind ein Spezialfall der Jacobi-Polynome.\n",
    "Jacobi-Polynome sind orthogonal bezüglich des Skalarprodukts:\n",
    "$$\n",
    "\\langle f, g \\rangle := \\int_{-1}^{1} f(x) g(x) (1-x)^\\alpha (1+x)^\\beta \\, dx\n",
    "$$\n",
    "Durch geeignete Wahl von $\\alpha$ und $\\beta$ bekommt man neue Quadraturen.\n",
    "####\n",
    "### 5.5.1 Gaus Quadratur\n",
    "**Motivation**:\n",
    "Die Gauss-Quadratur macht keine Annahme über Abstände (also nicht äquidistant),\n",
    "sondern sucht Punkte und Gewichte so, dass Polynome bis zum einem möglichst hohen\n",
    "Grad exakt integriert werden\n",
    "\n",
    "**Definition**\n",
    "$$\n",
    "\\int_{-1}^{1} f(x) \\, dx \\approx \\sum_{i=1}^{n} w_i f(x_i)\n",
    "$$"
   ],
   "id": "37a8bdf6f9b07c4f"
  },
  {
   "metadata": {},
   "cell_type": "markdown",
   "source": [
    "#### Gaus-Legendre Quadratur\n",
    "Die Gewichts funktion ist $omega(x) = 1$.\n",
    "\n",
    "$\\alpha = 0, \\beta = 0$\n",
    "\n",
    "**Theorem**: Die Knoten $x_1, . . . , x_n$, die diese Eigenschaft erfüllen, sind die Nullstellen\n",
    "des Legendre-Polynoms $p_n(x)$."
   ],
   "id": "7a9bab52ab0c4f4f"
  },
  {
   "metadata": {},
   "cell_type": "code",
   "outputs": [],
   "execution_count": null,
   "source": [
    "def gauss_legendre(f, a, b, n):\n",
    "    r\"\"\"Integrate f, over [a, b], using Gauss-Legendre quadrature.\n",
    "\n",
    "    f       : function to integrate\n",
    "    a       : left end\n",
    "    b       : right end\n",
    "    n       : degree of the quadrature rule\n",
    "    \"\"\"\n",
    "    xn, wn = scipy.special.roots_legendre(n)\n",
    "    x = 0.5 * (b-a) * xn + (a+b) / 2\n",
    "    w = 0.5 * (b-a) * wn\n",
    "    return np.sum(w*f(x))\n"
   ],
   "id": "29a2bdbae65af56e"
  },
  {
   "metadata": {},
   "cell_type": "markdown",
   "source": [
    "#### Gaus-Radau Quadratur\n",
    "Die Gewichtsfunktion ist $omega(x) = 1$.\n",
    "Falls der rechte Rand fixiert ist, gilt: $\\alpha = 1, \\beta = 0$, ansonsten falls der linke Rand fixiert ist: $\\alpha = 0, \\beta = 1$."
   ],
   "id": "ac6882f9e48365de"
  },
  {
   "metadata": {
    "ExecuteTime": {
     "end_time": "2025-10-29T11:59:36.050001Z",
     "start_time": "2025-10-29T11:59:36.047194Z"
    }
   },
   "cell_type": "code",
   "source": [
    "def gauss_radau(f, a, b, n, fixed='r'):\n",
    "    \"\"\"\n",
    "    Integrate f over [a, b] using Gauss–Radau quadrature.\n",
    "\n",
    "    Parameters\n",
    "    ----------\n",
    "    f : callable\n",
    "        Function to integrate.\n",
    "    a, b : float\n",
    "        Integration interval.\n",
    "    n : int\n",
    "        Number of nodes (including the fixed one).\n",
    "    fixed : {'r', 'l'}, optional\n",
    "        Fixed endpoint:\n",
    "        - 'r': right endpoint (x = 1) included.\n",
    "        - 'l': left endpoint (x = -1) included.\n",
    "    \"\"\"\n",
    "    if fixed == 'r':\n",
    "        # Right endpoint fixed at x=1\n",
    "        r, w = scipy.special.roots_jacobi(n-1, alpha=1, beta=0)\n",
    "        nodes = np.hstack((r, [1.0]))\n",
    "        weights = np.hstack((w / (1 - r), [2 / n**2]))\n",
    "    else:\n",
    "        # Left endpoint fixed at x=-1\n",
    "        r, w = scipy.special.roots_jacobi(n-1, alpha=0, beta=1)\n",
    "        nodes = np.hstack(([-1.0], r))\n",
    "        weights = np.hstack(([2 / n**2], w / (1 + r)))\n",
    "\n",
    "    # Map from [-1, 1] → [a, b]\n",
    "    x = 0.5 * (b - a) * nodes + 0.5 * (a + b)\n",
    "    w = 0.5 * (b - a) * weights\n",
    "\n",
    "    return np.sum(w * f(x))"
   ],
   "id": "3454736869c368e2",
   "outputs": [],
   "execution_count": 1
  },
  {
   "metadata": {},
   "cell_type": "markdown",
   "source": [
    "#### Gaus-Lobatto Quadratur\n",
    "Die Gewichtsfunktion ist $omega(x) = 1$.\n",
    "Beide Ränder der Knoten sind fixiert. $\\alpha = 1, \\beta = 1$"
   ],
   "id": "aa33e8e5efb26183"
  },
  {
   "metadata": {
    "ExecuteTime": {
     "end_time": "2025-10-29T12:08:54.566861Z",
     "start_time": "2025-10-29T12:08:54.557923Z"
    }
   },
   "cell_type": "code",
   "source": [
    "def gauss_lobatto(f, a, b, n):\n",
    "    \"\"\"\n",
    "    Integrate f over [a, b] using Gauss–Lobatto quadrature\n",
    "    with n nodes (including endpoints), using roots_jacobi.\n",
    "\n",
    "    Parameters\n",
    "    ----------\n",
    "    f : callable\n",
    "        Function to integrate.\n",
    "    a, b : float\n",
    "        Integration interval.\n",
    "    n : int\n",
    "        Number of nodes (including the fixed one).\n",
    "    \"\"\"\n",
    "    if n < 2:\n",
    "        raise ValueError(\"Gauss–Lobatto requires at least 2 nodes\")\n",
    "\n",
    "    if n == 2:\n",
    "        # Only endpoints\n",
    "        nodes = np.array([-1.0, 1.0])\n",
    "        weights = np.array([1.0, 1.0])\n",
    "    else:\n",
    "        # Internal nodes and weights from Jacobi(n-2,1,1)\n",
    "        internal_nodes, internal_weights = scipy.special.roots_jacobi(n-2, alpha=1, beta=1)\n",
    "\n",
    "        # All nodes\n",
    "        nodes = np.hstack(([-1.0], internal_nodes, [1.0]))\n",
    "\n",
    "        # All weights\n",
    "        weights = np.zeros(n)\n",
    "        weights[0] = 2 / (n * (n-1))      # left endpoint\n",
    "        weights[-1] = 2 / (n * (n-1))     # right endpoint\n",
    "\n",
    "        # Internal weights: scale Jacobi weights\n",
    "        weights[1:-1] = internal_weights * 2 / (n*(n-1))\n",
    "\n",
    "    # Map from [-1,1] → [a,b]\n",
    "    x = 0.5*(b - a)*nodes + 0.5*(a + b)\n",
    "    w = 0.5*(b - a)*weights\n",
    "\n",
    "    return np.sum(w * f(x))"
   ],
   "id": "1fb28f4147da9516",
   "outputs": [],
   "execution_count": 2
  }
 ],
 "metadata": {
  "kernelspec": {
   "display_name": "Python 3",
   "language": "python",
   "name": "python3"
  },
  "language_info": {
   "codemirror_mode": {
    "name": "ipython",
    "version": 2
   },
   "file_extension": ".py",
   "mimetype": "text/x-python",
   "name": "python",
   "nbconvert_exporter": "python",
   "pygments_lexer": "ipython2",
   "version": "2.7.6"
  }
 },
 "nbformat": 4,
 "nbformat_minor": 5
}
