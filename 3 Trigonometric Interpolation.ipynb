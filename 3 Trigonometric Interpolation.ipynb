{
 "cells": [
  {
   "metadata": {
    "ExecuteTime": {
     "end_time": "2025-10-24T14:24:27.336855Z",
     "start_time": "2025-10-24T14:24:27.028149Z"
    }
   },
   "cell_type": "code",
   "source": "import numpy as np",
   "id": "a0355c2f5adb63c4",
   "outputs": [],
   "execution_count": 1
  },
  {
   "metadata": {},
   "cell_type": "markdown",
   "source": "# Trigonometrische Interpolation\n",
   "id": "1dc3341b2c3e7c23"
  },
  {
   "metadata": {},
   "cell_type": "markdown",
   "source": [
    "## Auswertung trigonometrischen Interpolationspolynoms\n",
    "Polynom wird auf äquidistanten Punkten ausgewertet.\n",
    "Um das Polynom auf mehr Punkten als Stützstellen und damit Koeffizienten auswerten zu können,\n",
    "müssen Nullen in die Mitte des Koeffizienten Vektors(c) hinzugefügt werden."
   ],
   "id": "ad753335de7dbf05"
  },
  {
   "metadata": {},
   "cell_type": "code",
   "outputs": [],
   "execution_count": null,
   "source": [
    "# Implementierung mit ifft ist nur für reelle Werte von f korrekt.\n",
    "def evaliptrig_ifft(y,N):\n",
    "    n = len(y)\n",
    "    if (n%2) == 0:\n",
    "       c = np.fft.ifft(y)\n",
    "       a = np.zeros(N, dtype=complex)\n",
    "       a[:n//2] = c[:n//2]\n",
    "       a[N-n//2:] = c[n//2:]\n",
    "       v = np.fft.fft(a)\n",
    "       return v.real\n",
    "    else: raise(TypeError, 'odd length')\n",
    "\n",
    "# Implementierung mit fft ist immer korrekt.\n",
    "def evaliptrig_fft(y,N):\n",
    "    n = len(y)\n",
    "    if (n%2) == 0:\n",
    "       c = np.fft.fft(y)\n",
    "       a = np.zeros(N, dtype=complex)\n",
    "       a[:n//2] = c[:n//2]\n",
    "       a[N-n//2:] = c[n//2:]\n",
    "       v = np.fft.ifft(a)\n",
    "       return v.real\n",
    "    else: raise(TypeError, 'odd length')"
   ],
   "id": "acc96d57fff5b667"
  },
  {
   "metadata": {},
   "cell_type": "markdown",
   "source": "Auswertung der Ableitung eines trigonometrischen Polynoms",
   "id": "36eb5387966737dd"
  },
  {
   "metadata": {},
   "cell_type": "code",
   "outputs": [],
   "execution_count": null,
   "source": [
    "def evaliDtrig(y, N):\n",
    "    n = len(y)\n",
    "    if(n % 2 != 0):\n",
    "        raise ValueError(\"y must be of even length\")\n",
    "    max_freq = n // 2\n",
    "\n",
    "     # use ifft instead of fft, in order to avoid divisions by n\n",
    "    c = np.fft.ifft(y)\n",
    "    freqs = np.fft.fftshift(np.arange(-max_freq, max_freq))\n",
    "\n",
    "    # derivative in Fourier domain\n",
    "    # -2*pi because used ifft\n",
    "    dv = -2 * np.pi * 1j * freqs * c\n",
    "\n",
    "    # perform zero padding\n",
    "    a = np.zeros(N, dtype=complex)\n",
    "    a[:max_freq] = dv[:max_freq]\n",
    "    a[N - max_freq :] = dv[max_freq:]\n",
    "\n",
    "    # inverse transformation of padded frequencies\n",
    "    v = np.fft.fft(a)\n",
    "    return v"
   ],
   "id": "327d22e72107fbd1"
  }
 ],
 "metadata": {
  "kernelspec": {
   "display_name": "Python 3",
   "language": "python",
   "name": "python3"
  },
  "language_info": {
   "codemirror_mode": {
    "name": "ipython",
    "version": 2
   },
   "file_extension": ".py",
   "mimetype": "text/x-python",
   "name": "python",
   "nbconvert_exporter": "python",
   "pygments_lexer": "ipython2",
   "version": "2.7.6"
  }
 },
 "nbformat": 4,
 "nbformat_minor": 5
}
